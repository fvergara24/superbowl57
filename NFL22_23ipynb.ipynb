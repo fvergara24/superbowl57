{
  "nbformat": 4,
  "nbformat_minor": 0,
  "metadata": {
    "colab": {
      "provenance": [],
      "mount_file_id": "1h-serSFRbjHpRSbItA-qZ5Ah1M036sj3",
      "authorship_tag": "ABX9TyOd/HK21BdPO94+0QVFPPON",
      "include_colab_link": true
    },
    "kernelspec": {
      "name": "python3",
      "display_name": "Python 3"
    },
    "language_info": {
      "name": "python"
    }
  },
  "cells": [
    {
      "cell_type": "markdown",
      "metadata": {
        "id": "view-in-github",
        "colab_type": "text"
      },
      "source": [
        "<a href=\"https://colab.research.google.com/github/fvergara24/superbowl57/blob/main/NFL22_23ipynb.ipynb\" target=\"_parent\"><img src=\"https://colab.research.google.com/assets/colab-badge.svg\" alt=\"Open In Colab\"/></a>"
      ]
    },
    {
      "cell_type": "code",
      "source": [
        "import pandas as pd\n",
        "import matplotlib.pyplot as plt\n",
        "import numpy as np"
      ],
      "metadata": {
        "id": "8UhAZKDfHJqR"
      },
      "execution_count": 371,
      "outputs": []
    },
    {
      "cell_type": "code",
      "source": [
        "df=pd.read_csv('/content/drive/MyDrive/SuperBowl/NFL22-23 - nfl.csv')"
      ],
      "metadata": {
        "id": "mAyQ9eFRWGbC"
      },
      "execution_count": 372,
      "outputs": []
    },
    {
      "cell_type": "markdown",
      "source": [
        "# ETL DataFrames"
      ],
      "metadata": {
        "id": "VyzrBmADp8yv"
      }
    },
    {
      "cell_type": "code",
      "source": [
        "def k_todo():\n",
        "  kansas_visitante = df[df['Visitante']=='Kansas City Chiefs']\n",
        "  kansas_local =df[df['Local']=='Kansas City Chiefs']\n",
        "  kansas_local=kansas_local[['Local','Resultado2','Resultado1','Visitante','Semana']]\n",
        "  kansas_local = kansas_local.rename(columns={'Resultado2':'Resultado1', 'Resultado1':'Resultado2'})\n",
        "  kansas_local = kansas_local.rename(columns={'Local':'Visitante', 'Visitante':'Local'})\n",
        "  kansas=pd.concat([kansas_visitante, kansas_local])\n",
        "  kansas = kansas.reset_index(drop=True)\n",
        "  kansas = kansas.rename(columns={'Visitante':'Equipo1', 'Local':'Equipo2'})\n",
        "  k_ganador=[]\n",
        "  for i in range(len(kansas)):\n",
        "    if kansas.iloc[i][1]>kansas.iloc[i][2]:\n",
        "      k_ganador.append(1)\n",
        "    else:\n",
        "      k_ganador.append(0) \n",
        "  kansas['Ganados']=k_ganador\n",
        "  kansas = kansas.sort_values(by='Semana')\n",
        "  kansas=kansas.reset_index(drop=True)\n",
        "  return kansas"
      ],
      "metadata": {
        "id": "o6xMrHEpKNLd"
      },
      "execution_count": 373,
      "outputs": []
    },
    {
      "cell_type": "code",
      "source": [
        "def e_todo():\n",
        "  e_visitante = df[df['Visitante']=='Philadelphia Eagles']\n",
        "  e_local =df[df['Local']=='Philadelphia Eagles']\n",
        "  e_local = e_local[['Local','Resultado2','Resultado1','Visitante','Semana']]\n",
        "  e_local = e_local.rename(columns={'Resultado2':'Resultado1', 'Resultado1':'Resultado2'})\n",
        "  e_local = e_local.rename(columns={'Local':'Visitante', 'Visitante':'Local'})\n",
        "  eagles=pd.concat([e_visitante, e_local])\n",
        "  eagles = eagles.reset_index(drop=True)\n",
        "  eagles = eagles.rename(columns={'Visitante':'Equipo1', 'Local':'Equipo2'})\n",
        "  e_ganador=[]\n",
        "  for i in range(len(eagles)):\n",
        "    if eagles.iloc[i][1]>eagles.iloc[i][2]:\n",
        "      e_ganador.append(1)\n",
        "    else:\n",
        "      e_ganador.append(0) \n",
        "  eagles['Ganados']=e_ganador\n",
        "  eagles = eagles.sort_values(by='Semana')\n",
        "  eagles=eagles.reset_index(drop=True)\n",
        "  return eagles"
      ],
      "metadata": {
        "id": "vOfN3xK4Ek4x"
      },
      "execution_count": 374,
      "outputs": []
    },
    {
      "cell_type": "markdown",
      "source": [
        "# Juegos"
      ],
      "metadata": {
        "id": "sqntYzZ5u0Aw"
      }
    },
    {
      "cell_type": "code",
      "source": [
        "print('Juegos Ganados')\n",
        "print('eagles',eagles['Ganados'].sum(),',','kansas',kansas['Ganados'].sum())\n",
        "print('Juegos Perdidos')\n",
        "print('eagles',eagles['Ganados'].value_counts()[0],',','kansas',kansas['Ganados'].value_counts()[0])"
      ],
      "metadata": {
        "colab": {
          "base_uri": "https://localhost:8080/"
        },
        "id": "ohH4EnPMpDmO",
        "outputId": "7a1bd38e-bbc2-4fd0-ba19-0fb34ddd5f74"
      },
      "execution_count": 375,
      "outputs": [
        {
          "output_type": "stream",
          "name": "stdout",
          "text": [
            "Juegos Ganados\n",
            "eagles 16 , kansas 16\n",
            "Juegos Perdidos\n",
            "eagles 3 , kansas 3\n"
          ]
        }
      ]
    },
    {
      "cell_type": "markdown",
      "source": [
        "#Puntos"
      ],
      "metadata": {
        "id": "6Fukzkz71MNz"
      }
    },
    {
      "cell_type": "markdown",
      "source": [
        "## Puntos máximos y mínimos"
      ],
      "metadata": {
        "id": "41LKXj3O0wXw"
      }
    },
    {
      "cell_type": "code",
      "source": [
        "print('Kansas')\n",
        "print(kansas['Resultado1'].agg([max,min]))\n",
        "print('Eagles')\n",
        "print(eagles['Resultado1'].agg([max,min]))"
      ],
      "metadata": {
        "colab": {
          "base_uri": "https://localhost:8080/"
        },
        "id": "jONzpPp20zuT",
        "outputId": "f3993766-48f3-480c-9c95-4c67d6118c84"
      },
      "execution_count": 437,
      "outputs": [
        {
          "output_type": "stream",
          "name": "stdout",
          "text": [
            "Kansas\n",
            "max    44\n",
            "min    17\n",
            "Name: Resultado1, dtype: int64\n",
            "Eagles\n",
            "max    48\n",
            "min    10\n",
            "Name: Resultado1, dtype: int64\n"
          ]
        }
      ]
    },
    {
      "cell_type": "code",
      "source": [
        "kansas = k_original()\n",
        "eagles = e_original()\n",
        "print('TOTALES')\n",
        "print('SOLO EN TEMPORADA')\n",
        "kansas = kansas.sort_values(by='Semana').reset_index(drop=True).drop([17,18])\n",
        "eagles = eagles.sort_values(by='Semana').reset_index(drop=True).drop([17,18])\n",
        "print('A favor')\n",
        "print('Kansas', round(kansas['Resultado1'].sum()), 'Eagles', round(eagles['Resultado1'].sum()))\n",
        "print('En contra')\n",
        "print('Kansas',round(kansas['Resultado2'].sum()),'Eagles',round(eagles['Resultado2'].sum()))\n",
        "print('-------')\n",
        "print('PROMEDIO por partido')\n",
        "print('A favor')\n",
        "print('Kansas', round(kansas['Resultado1'].mean()), 'Eagles', round(eagles['Resultado1'].mean()))\n",
        "print('En contra')\n",
        "print('Kansas',round(kansas['Resultado2'].mean()),'Eagles',round(eagles['Resultado2'].mean()))\n",
        "kansas = k_original()\n",
        "eagles = e_original()\n",
        "print('-------')\n",
        "print('CON POSTEMPORADA')\n",
        "print('A favor')\n",
        "print('Kansas', round(kansas['Resultado1'].sum()), 'Eagles', round(eagles['Resultado1'].sum()))\n",
        "print('En contra')\n",
        "print('Kansas',round(kansas['Resultado2'].sum()),'Eagles',round(eagles['Resultado2'].sum()))\n",
        "print('-------')\n",
        "print('PROMEDIO por partido')\n",
        "print('A favor')\n",
        "print('Kansas', round(kansas['Resultado1'].mean()), 'Eagles', round(eagles['Resultado1'].mean()))\n",
        "print('En contra')\n",
        "print('Kansas',round(kansas['Resultado2'].mean()),'Eagles',round(eagles['Resultado2'].mean()))"
      ],
      "metadata": {
        "colab": {
          "base_uri": "https://localhost:8080/"
        },
        "id": "HLhfbiSgk5I7",
        "outputId": "282cc242-9d9b-4c72-efb2-0cf1b37a29e8"
      },
      "execution_count": 436,
      "outputs": [
        {
          "output_type": "stream",
          "name": "stdout",
          "text": [
            "TOTALES\n",
            "SOLO EN TEMPORADA\n",
            "A favor\n",
            "Kansas 496 Eagles 477\n",
            "En contra\n",
            "Kansas 369 Eagles 344\n",
            "-------\n",
            "PROMEDIO por partido\n",
            "A favor\n",
            "Kansas 29 Eagles 28\n",
            "En contra\n",
            "Kansas 22 Eagles 20\n",
            "-------\n",
            "CON POSTEMPORADA\n",
            "A favor\n",
            "Kansas 546 Eagles 546\n",
            "En contra\n",
            "Kansas 409 Eagles 358\n",
            "-------\n",
            "PROMEDIO por partido\n",
            "A favor\n",
            "Kansas 29 Eagles 29\n",
            "En contra\n",
            "Kansas 22 Eagles 19\n"
          ]
        }
      ]
    },
    {
      "cell_type": "markdown",
      "source": [
        "Están igual en ofensiva //\n",
        "Tiene mejor defensiva Eagles "
      ],
      "metadata": {
        "id": "H9AvbivOzkt3"
      }
    },
    {
      "cell_type": "markdown",
      "source": [
        "##Diferencia de puntos cuando son ganadores"
      ],
      "metadata": {
        "id": "MqtIqqAG1X03"
      }
    },
    {
      "cell_type": "code",
      "source": [
        "kansas['Diferencia']=kansas['Resultado1']-kansas['Resultado2']\n",
        "eagles['Diferencia']=eagles['Resultado1']-eagles['Resultado2']\n",
        "print('Promedio de la diferencia de puntos por partido en GENERAL')\n",
        "print('kansas', round(kansas['Diferencia'].mean()), 'eagles', round(eagles['Diferencia'].mean()))"
      ],
      "metadata": {
        "colab": {
          "base_uri": "https://localhost:8080/"
        },
        "id": "wh0PGvYF5LNT",
        "outputId": "2c417f57-b7a6-4bf7-c516-3508772ea66a"
      },
      "execution_count": 438,
      "outputs": [
        {
          "output_type": "stream",
          "name": "stdout",
          "text": [
            "Promedio de la diferencia de puntos por partido en GENERAL\n",
            "kansas 7 eagles 10\n"
          ]
        }
      ]
    },
    {
      "cell_type": "code",
      "source": [
        "kansas['Diferencia']=kansas['Resultado1']-kansas['Resultado2']\n",
        "eagles['Diferencia']=eagles['Resultado1']-eagles['Resultado2']\n",
        "k_dif=[]\n",
        "for i in range(len(kansas)):\n",
        "  if kansas.iloc[i][6]>0:\n",
        "    k_dif.append(kansas.iloc[i][6])\n",
        "k_dif=np.array(k_dif)\n",
        "e_dif=[]\n",
        "for i in range(len(eagles)):\n",
        "  if eagles.iloc[i][6]>0:\n",
        "    e_dif.append(eagles.iloc[i][6])\n",
        "e_dif=np.array(e_dif)\n",
        "print('Promedio de la diferencia de puntos por partido cuando son GANADORES')\n",
        "print('kansas', round(k_dif.mean()), 'eagles', round((e_dif.mean())))"
      ],
      "metadata": {
        "colab": {
          "base_uri": "https://localhost:8080/"
        },
        "id": "aWYXqkk3yds-",
        "outputId": "8de2608f-7955-4216-98eb-56672a1537d1"
      },
      "execution_count": 439,
      "outputs": [
        {
          "output_type": "stream",
          "name": "stdout",
          "text": [
            "Promedio de la diferencia de puntos por partido cuando son GANADORES\n",
            "kansas 9 eagles 13\n"
          ]
        }
      ]
    },
    {
      "cell_type": "code",
      "source": [
        "k_dif_perdedor=[]\n",
        "for i in range(len(kansas)):\n",
        "  if kansas.iloc[i][6]<0:\n",
        "    k_dif_perdedor.append(kansas.iloc[i][6])\n",
        "k_dif_perdedor=np.array(k_dif_perdedor)\n",
        "e_dif_perdedor=[]\n",
        "for i in range(len(eagles)):\n",
        "  if eagles.iloc[i][6]<0:\n",
        "    e_dif_perdedor.append(eagles.iloc[i][6])\n",
        "e_dif_perdedor=np.array(e_dif_perdedor)\n",
        "print('Promedio de la diferencia de puntos por partido cuando son PERDEDORES')\n",
        "print('kansas', round(k_dif_perdedor.mean()), 'eagles', round((e_dif_perdedor.mean())))"
      ],
      "metadata": {
        "colab": {
          "base_uri": "https://localhost:8080/"
        },
        "id": "TyPlQKeEc_CC",
        "outputId": "1a2d27d4-f1a8-4b13-9e99-1f50a8c62c72"
      },
      "execution_count": 440,
      "outputs": [
        {
          "output_type": "stream",
          "name": "stdout",
          "text": [
            "Promedio de la diferencia de puntos por partido cuando son PERDEDORES\n",
            "kansas -3 eagles -9\n"
          ]
        }
      ]
    },
    {
      "cell_type": "markdown",
      "source": [
        "#Graficas"
      ],
      "metadata": {
        "id": "qzBvAUhQFzZR"
      }
    },
    {
      "cell_type": "code",
      "source": [
        "kansas.sort_values(by='Semana').plot(x='Semana',y='Resultado1',kind='bar',title='Kansas', color='red')\n",
        "eagles.sort_values(by='Semana').plot(x='Semana',y='Resultado1',kind='bar',title='Eagles', color='green')\n",
        "plt.show()"
      ],
      "metadata": {
        "colab": {
          "base_uri": "https://localhost:8080/",
          "height": 579
        },
        "id": "2rq7WyRzHe9w",
        "outputId": "3c758f0a-9d73-46c8-ef93-331a5f1de038"
      },
      "execution_count": 384,
      "outputs": [
        {
          "output_type": "display_data",
          "data": {
            "text/plain": [
              "<Figure size 432x288 with 1 Axes>"
            ],
            "image/png": "[encoded data removed]"
          },
          "metadata": {
            "needs_background": "light"
          }
        },
        {
          "output_type": "display_data",
          "data": {
            "text/plain": [
              "<Figure size 432x288 with 1 Axes>"
            ],
            "image/png": "[encoded data removed]"
          },
          "metadata": {
            "needs_background": "light"
          }
        }
      ]
    },
    {
      "cell_type": "code",
      "source": [
        "kansas=kansas.sort_values(by='Semana')\n",
        "eagles=eagles.sort_values(by='Semana')\n",
        "fig, ax = plt.subplots()\n",
        "ax.plot(kansas[\"Semana\"], kansas[\"Resultado1\"], label='Kansas', color='red')\n",
        "ax.plot(eagles[\"Semana\"], eagles[\"Resultado1\"], label='Eagles', color='green') \n",
        "ax.set_xlabel(\"semana\")\n",
        "ax.set_ylabel(\"Resultados\")\n",
        "ax.legend()\n",
        "plt.show()"
      ],
      "metadata": {
        "colab": {
          "base_uri": "https://localhost:8080/",
          "height": 279
        },
        "id": "MTjQ3UBGILZA",
        "outputId": "4a53b026-cf9e-4a9a-a7fc-5092cdd65309"
      },
      "execution_count": 385,
      "outputs": [
        {
          "output_type": "display_data",
          "data": {
            "text/plain": [
              "<Figure size 432x288 with 1 Axes>"
            ],
            "image/png": "[encoded data removed]"
          },
          "metadata": {
            "needs_background": "light"
          }
        }
      ]
    },
    {
      "cell_type": "code",
      "source": [
        "fig, ax = plt.subplots()\n",
        "ax.plot(kansas[\"Semana\"], kansas[\"Resultado1\"], label='Kansas', color='red')\n",
        "plt.plot(np.arange(0,4*np.pi,0.1),10*(np.sin(2*x-0.5))+30)\n",
        "plt.show()"
      ],
      "metadata": {
        "colab": {
          "base_uri": "https://localhost:8080/",
          "height": 267
        },
        "id": "XFJX0t15Kmpl",
        "outputId": "1041ae56-f8fc-44b7-efbf-fef3a56ec5fb"
      },
      "execution_count": 386,
      "outputs": [
        {
          "output_type": "display_data",
          "data": {
            "text/plain": [
              "<Figure size 432x288 with 1 Axes>"
            ],
            "image/png": "[encoded data removed]"
          },
          "metadata": {
            "needs_background": "light"
          }
        }
      ]
    },
    {
      "cell_type": "code",
      "source": [
        "kansas=kansas.reset_index(drop=True)\n",
        "kansas_10=kansas.loc[8:]"
      ],
      "metadata": {
        "id": "z8sRkfVLnkx-"
      },
      "execution_count": 387,
      "outputs": []
    },
    {
      "cell_type": "code",
      "source": [
        "fig, ax = plt.subplots()\n",
        "ax.plot(kansas_10[\"Semana\"]-10, kansas_10[\"Resultado1\"], label='Kansas', color='red')\n",
        "plt.plot(np.arange(0,4*np.pi,0.1),2.5*(np.sin(2*x))+27)\n",
        "plt.show()"
      ],
      "metadata": {
        "colab": {
          "base_uri": "https://localhost:8080/",
          "height": 265
        },
        "id": "WQ78vj75nNz9",
        "outputId": "cedeb439-3d37-4f28-f075-f2d9695a0c4b"
      },
      "execution_count": 388,
      "outputs": [
        {
          "output_type": "display_data",
          "data": {
            "text/plain": [
              "<Figure size 432x288 with 1 Axes>"
            ],
            "image/png": "[encoded data removed]"
          },
          "metadata": {
            "needs_background": "light"
          }
        }
      ]
    },
    {
      "cell_type": "markdown",
      "source": [
        "##Puntos en contra"
      ],
      "metadata": {
        "id": "EXy619hSq7a9"
      }
    },
    {
      "cell_type": "code",
      "source": [
        "eagles = eagles.sort_values(by='Semana')\n",
        "fig, ax = plt.subplots()\n",
        "ax.plot(eagles[\"Semana\"], eagles[\"Resultado2\"], label='Eagles', color='green') \n",
        "plt.show()"
      ],
      "metadata": {
        "colab": {
          "base_uri": "https://localhost:8080/",
          "height": 265
        },
        "id": "2FZbIHa5qnOI",
        "outputId": "2a86d68e-92c3-47db-ed3b-9f7f0a2988de"
      },
      "execution_count": 389,
      "outputs": [
        {
          "output_type": "display_data",
          "data": {
            "text/plain": [
              "<Figure size 432x288 with 1 Axes>"
            ],
            "image/png": "[encoded data removed]"
          },
          "metadata": {
            "needs_background": "light"
          }
        }
      ]
    },
    {
      "cell_type": "code",
      "source": [
        "kansas = kansas.sort_values(by='Semana')\n",
        "eagles = eagles.sort_values(by='Semana')\n",
        "fig, ax = plt.subplots()\n",
        "ax.plot(kansas[\"Semana\"], kansas[\"Resultado2\"], label='Kansas', color='red')\n",
        "ax.plot(eagles[\"Semana\"], eagles[\"Resultado2\"], label='Eagles', color='green') \n",
        "ax.set_xlabel(\"semana\")\n",
        "ax.set_ylabel(\"Resultados\")\n",
        "ax.legend()\n",
        "plt.show()"
      ],
      "metadata": {
        "colab": {
          "base_uri": "https://localhost:8080/",
          "height": 279
        },
        "id": "9gHAmZpSqrAR",
        "outputId": "1f1f46b7-5563-45f5-91cf-7bfb211773c7"
      },
      "execution_count": 390,
      "outputs": [
        {
          "output_type": "display_data",
          "data": {
            "text/plain": [
              "<Figure size 432x288 with 1 Axes>"
            ],
            "image/png": "[encoded data removed]"
          },
          "metadata": {
            "needs_background": "light"
          }
        }
      ]
    },
    {
      "cell_type": "code",
      "source": [
        "kansas.sort_values(by='Semana').plot(x='Semana',y='Resultado2',kind='bar',title='Kansas', color='red')\n",
        "eagles.sort_values(by='Semana').plot(x='Semana',y='Resultado2',kind='bar',title='Eagles', color='green')\n",
        "plt.show()"
      ],
      "metadata": {
        "colab": {
          "base_uri": "https://localhost:8080/",
          "height": 579
        },
        "id": "0hJvIJ6brPFq",
        "outputId": "c6c5340c-92e6-475b-ad6d-e82595655cfd"
      },
      "execution_count": 391,
      "outputs": [
        {
          "output_type": "display_data",
          "data": {
            "text/plain": [
              "<Figure size 432x288 with 1 Axes>"
            ],
            "image/png": "[encoded data removed]"
          },
          "metadata": {
            "needs_background": "light"
          }
        },
        {
          "output_type": "display_data",
          "data": {
            "text/plain": [
              "<Figure size 432x288 with 1 Axes>"
            ],
            "image/png": "[encoded data removed]"
          },
          "metadata": {
            "needs_background": "light"
          }
        }
      ]
    },
    {
      "cell_type": "code",
      "source": [
        "kansas.loc[17:]"
      ],
      "metadata": {
        "colab": {
          "base_uri": "https://localhost:8080/",
          "height": 112
        },
        "id": "tQ-z86Y1ukTM",
        "outputId": "f9ecad54-8f54-4e3b-9514-ba818e25f000"
      },
      "execution_count": 392,
      "outputs": [
        {
          "output_type": "execute_result",
          "data": {
            "text/plain": [
              "               Equipo1  Resultado1  Resultado2               Equipo2  Semana  \\\n",
              "17  Kansas City Chiefs          27          20  Jacksonville Jaguars      19   \n",
              "18  Kansas City Chiefs          23          20    Cincinnati Bengals      20   \n",
              "\n",
              "    Ganados  \n",
              "17        1  \n",
              "18        1  "
            ],
            "text/html": [
              "\n",
              "  <div id=\"df-c56604b0-b490-4580-a10e-b566f93a8120\">\n",
              "    <div class=\"colab-df-container\">\n",
              "      <div>\n",
              "<style scoped>\n",
              "    .dataframe tbody tr th:only-of-type {\n",
              "        vertical-align: middle;\n",
              "    }\n",
              "\n",
              "    .dataframe tbody tr th {\n",
              "        vertical-align: top;\n",
              "    }\n",
              "\n",
              "    .dataframe thead th {\n",
              "        text-align: right;\n",
              "    }\n",
              "</style>\n",
              "<table border=\"1\" class=\"dataframe\">\n",
              "  <thead>\n",
              "    <tr style=\"text-align: right;\">\n",
              "      <th></th>\n",
              "      <th>Equipo1</th>\n",
              "      <th>Resultado1</th>\n",
              "      <th>Resultado2</th>\n",
              "      <th>Equipo2</th>\n",
              "      <th>Semana</th>\n",
              "      <th>Ganados</th>\n",
              "    </tr>\n",
              "  </thead>\n",
              "  <tbody>\n",
              "    <tr>\n",
              "      <th>17</th>\n",
              "      <td>Kansas City Chiefs</td>\n",
              "      <td>27</td>\n",
              "      <td>20</td>\n",
              "      <td>Jacksonville Jaguars</td>\n",
              "      <td>19</td>\n",
              "      <td>1</td>\n",
              "    </tr>\n",
              "    <tr>\n",
              "      <th>18</th>\n",
              "      <td>Kansas City Chiefs</td>\n",
              "      <td>23</td>\n",
              "      <td>20</td>\n",
              "      <td>Cincinnati Bengals</td>\n",
              "      <td>20</td>\n",
              "      <td>1</td>\n",
              "    </tr>\n",
              "  </tbody>\n",
              "</table>\n",
              "</div>\n",
              "      <button class=\"colab-df-convert\" onclick=\"convertToInteractive('df-c56604b0-b490-4580-a10e-b566f93a8120')\"\n",
              "              title=\"Convert this dataframe to an interactive table.\"\n",
              "              style=\"display:none;\">\n",
              "        \n",
              "  <svg xmlns=\"http://www.w3.org/2000/svg\" height=\"24px\"viewBox=\"0 0 24 24\"\n",
              "       width=\"24px\">\n",
              "    <path d=\"M0 0h24v24H0V0z\" fill=\"none\"/>\n",
              "    <path d=\"M18.56 5.44l.94 2.06.94-2.06 2.06-.94-2.06-.94-.94-2.06-.94 2.06-2.06.94zm-11 1L8.5 8.5l.94-2.06 2.06-.94-2.06-.94L8.5 2.5l-.94 2.06-2.06.94zm10 10l.94 2.06.94-2.06 2.06-.94-2.06-.94-.94-2.06-.94 2.06-2.06.94z\"/><path d=\"M17.41 7.96l-1.37-1.37c-.4-.4-.92-.59-1.43-.59-.52 0-1.04.2-1.43.59L10.3 9.45l-7.72 7.72c-.78.78-.78 2.05 0 2.83L4 21.41c.39.39.9.59 1.41.59.51 0 1.02-.2 1.41-.59l7.78-7.78 2.81-2.81c.8-.78.8-2.07 0-2.86zM5.41 20L4 18.59l7.72-7.72 1.47 1.35L5.41 20z\"/>\n",
              "  </svg>\n",
              "      </button>\n",
              "      \n",
              "  <style>\n",
              "    .colab-df-container {\n",
              "      display:flex;\n",
              "      flex-wrap:wrap;\n",
              "      gap: 12px;\n",
              "    }\n",
              "\n",
              "    .colab-df-convert {\n",
              "      background-color: #E8F0FE;\n",
              "      border: none;\n",
              "      border-radius: 50%;\n",
              "      cursor: pointer;\n",
              "      display: none;\n",
              "      fill: #1967D2;\n",
              "      height: 32px;\n",
              "      padding: 0 0 0 0;\n",
              "      width: 32px;\n",
              "    }\n",
              "\n",
              "    .colab-df-convert:hover {\n",
              "      background-color: #E2EBFA;\n",
              "      box-shadow: 0px 1px 2px rgba(60, 64, 67, 0.3), 0px 1px 3px 1px rgba(60, 64, 67, 0.15);\n",
              "      fill: #174EA6;\n",
              "    }\n",
              "\n",
              "    [theme=dark] .colab-df-convert {\n",
              "      background-color: #3B4455;\n",
              "      fill: #D2E3FC;\n",
              "    }\n",
              "\n",
              "    [theme=dark] .colab-df-convert:hover {\n",
              "      background-color: #434B5C;\n",
              "      box-shadow: 0px 1px 3px 1px rgba(0, 0, 0, 0.15);\n",
              "      filter: drop-shadow(0px 1px 2px rgba(0, 0, 0, 0.3));\n",
              "      fill: #FFFFFF;\n",
              "    }\n",
              "  </style>\n",
              "\n",
              "      <script>\n",
              "        const buttonEl =\n",
              "          document.querySelector('#df-c56604b0-b490-4580-a10e-b566f93a8120 button.colab-df-convert');\n",
              "        buttonEl.style.display =\n",
              "          google.colab.kernel.accessAllowed ? 'block' : 'none';\n",
              "\n",
              "        async function convertToInteractive(key) {\n",
              "          const element = document.querySelector('#df-c56604b0-b490-4580-a10e-b566f93a8120');\n",
              "          const dataTable =\n",
              "            await google.colab.kernel.invokeFunction('convertToInteractive',\n",
              "                                                     [key], {});\n",
              "          if (!dataTable) return;\n",
              "\n",
              "          const docLinkHtml = 'Like what you see? Visit the ' +\n",
              "            '<a target=\"_blank\" href=https://colab.research.google.com/notebooks/data_table.ipynb>data table notebook</a>'\n",
              "            + ' to learn more about interactive tables.';\n",
              "          element.innerHTML = '';\n",
              "          dataTable['output_type'] = 'display_data';\n",
              "          await google.colab.output.renderOutput(dataTable, element);\n",
              "          const docLink = document.createElement('div');\n",
              "          docLink.innerHTML = docLinkHtml;\n",
              "          element.appendChild(docLink);\n",
              "        }\n",
              "      </script>\n",
              "    </div>\n",
              "  </div>\n",
              "  "
            ]
          },
          "metadata": {},
          "execution_count": 392
        }
      ]
    },
    {
      "cell_type": "code",
      "source": [
        "eagles=eagles.reset_index(drop=True)\n",
        "eagles.loc[17:]"
      ],
      "metadata": {
        "colab": {
          "base_uri": "https://localhost:8080/",
          "height": 112
        },
        "id": "9a85sUZsupXu",
        "outputId": "20465b6e-3519-4e6b-92af-8dd281a516f6"
      },
      "execution_count": 393,
      "outputs": [
        {
          "output_type": "execute_result",
          "data": {
            "text/plain": [
              "                Equipo1  Resultado1  Resultado2              Equipo2  Semana  \\\n",
              "17  Philadelphia Eagles          38           7      New York Giants      19   \n",
              "18  Philadelphia Eagles          31           7  San Francisco 49ers      20   \n",
              "\n",
              "    Ganados  \n",
              "17        1  \n",
              "18        1  "
            ],
            "text/html": [
              "\n",
              "  <div id=\"df-7787f5a2-4e1f-4191-9300-0bb482980e1a\">\n",
              "    <div class=\"colab-df-container\">\n",
              "      <div>\n",
              "<style scoped>\n",
              "    .dataframe tbody tr th:only-of-type {\n",
              "        vertical-align: middle;\n",
              "    }\n",
              "\n",
              "    .dataframe tbody tr th {\n",
              "        vertical-align: top;\n",
              "    }\n",
              "\n",
              "    .dataframe thead th {\n",
              "        text-align: right;\n",
              "    }\n",
              "</style>\n",
              "<table border=\"1\" class=\"dataframe\">\n",
              "  <thead>\n",
              "    <tr style=\"text-align: right;\">\n",
              "      <th></th>\n",
              "      <th>Equipo1</th>\n",
              "      <th>Resultado1</th>\n",
              "      <th>Resultado2</th>\n",
              "      <th>Equipo2</th>\n",
              "      <th>Semana</th>\n",
              "      <th>Ganados</th>\n",
              "    </tr>\n",
              "  </thead>\n",
              "  <tbody>\n",
              "    <tr>\n",
              "      <th>17</th>\n",
              "      <td>Philadelphia Eagles</td>\n",
              "      <td>38</td>\n",
              "      <td>7</td>\n",
              "      <td>New York Giants</td>\n",
              "      <td>19</td>\n",
              "      <td>1</td>\n",
              "    </tr>\n",
              "    <tr>\n",
              "      <th>18</th>\n",
              "      <td>Philadelphia Eagles</td>\n",
              "      <td>31</td>\n",
              "      <td>7</td>\n",
              "      <td>San Francisco 49ers</td>\n",
              "      <td>20</td>\n",
              "      <td>1</td>\n",
              "    </tr>\n",
              "  </tbody>\n",
              "</table>\n",
              "</div>\n",
              "      <button class=\"colab-df-convert\" onclick=\"convertToInteractive('df-7787f5a2-4e1f-4191-9300-0bb482980e1a')\"\n",
              "              title=\"Convert this dataframe to an interactive table.\"\n",
              "              style=\"display:none;\">\n",
              "        \n",
              "  <svg xmlns=\"http://www.w3.org/2000/svg\" height=\"24px\"viewBox=\"0 0 24 24\"\n",
              "       width=\"24px\">\n",
              "    <path d=\"M0 0h24v24H0V0z\" fill=\"none\"/>\n",
              "    <path d=\"M18.56 5.44l.94 2.06.94-2.06 2.06-.94-2.06-.94-.94-2.06-.94 2.06-2.06.94zm-11 1L8.5 8.5l.94-2.06 2.06-.94-2.06-.94L8.5 2.5l-.94 2.06-2.06.94zm10 10l.94 2.06.94-2.06 2.06-.94-2.06-.94-.94-2.06-.94 2.06-2.06.94z\"/><path d=\"M17.41 7.96l-1.37-1.37c-.4-.4-.92-.59-1.43-.59-.52 0-1.04.2-1.43.59L10.3 9.45l-7.72 7.72c-.78.78-.78 2.05 0 2.83L4 21.41c.39.39.9.59 1.41.59.51 0 1.02-.2 1.41-.59l7.78-7.78 2.81-2.81c.8-.78.8-2.07 0-2.86zM5.41 20L4 18.59l7.72-7.72 1.47 1.35L5.41 20z\"/>\n",
              "  </svg>\n",
              "      </button>\n",
              "      \n",
              "  <style>\n",
              "    .colab-df-container {\n",
              "      display:flex;\n",
              "      flex-wrap:wrap;\n",
              "      gap: 12px;\n",
              "    }\n",
              "\n",
              "    .colab-df-convert {\n",
              "      background-color: #E8F0FE;\n",
              "      border: none;\n",
              "      border-radius: 50%;\n",
              "      cursor: pointer;\n",
              "      display: none;\n",
              "      fill: #1967D2;\n",
              "      height: 32px;\n",
              "      padding: 0 0 0 0;\n",
              "      width: 32px;\n",
              "    }\n",
              "\n",
              "    .colab-df-convert:hover {\n",
              "      background-color: #E2EBFA;\n",
              "      box-shadow: 0px 1px 2px rgba(60, 64, 67, 0.3), 0px 1px 3px 1px rgba(60, 64, 67, 0.15);\n",
              "      fill: #174EA6;\n",
              "    }\n",
              "\n",
              "    [theme=dark] .colab-df-convert {\n",
              "      background-color: #3B4455;\n",
              "      fill: #D2E3FC;\n",
              "    }\n",
              "\n",
              "    [theme=dark] .colab-df-convert:hover {\n",
              "      background-color: #434B5C;\n",
              "      box-shadow: 0px 1px 3px 1px rgba(0, 0, 0, 0.15);\n",
              "      filter: drop-shadow(0px 1px 2px rgba(0, 0, 0, 0.3));\n",
              "      fill: #FFFFFF;\n",
              "    }\n",
              "  </style>\n",
              "\n",
              "      <script>\n",
              "        const buttonEl =\n",
              "          document.querySelector('#df-7787f5a2-4e1f-4191-9300-0bb482980e1a button.colab-df-convert');\n",
              "        buttonEl.style.display =\n",
              "          google.colab.kernel.accessAllowed ? 'block' : 'none';\n",
              "\n",
              "        async function convertToInteractive(key) {\n",
              "          const element = document.querySelector('#df-7787f5a2-4e1f-4191-9300-0bb482980e1a');\n",
              "          const dataTable =\n",
              "            await google.colab.kernel.invokeFunction('convertToInteractive',\n",
              "                                                     [key], {});\n",
              "          if (!dataTable) return;\n",
              "\n",
              "          const docLinkHtml = 'Like what you see? Visit the ' +\n",
              "            '<a target=\"_blank\" href=https://colab.research.google.com/notebooks/data_table.ipynb>data table notebook</a>'\n",
              "            + ' to learn more about interactive tables.';\n",
              "          element.innerHTML = '';\n",
              "          dataTable['output_type'] = 'display_data';\n",
              "          await google.colab.output.renderOutput(dataTable, element);\n",
              "          const docLink = document.createElement('div');\n",
              "          docLink.innerHTML = docLinkHtml;\n",
              "          element.appendChild(docLink);\n",
              "        }\n",
              "      </script>\n",
              "    </div>\n",
              "  </div>\n",
              "  "
            ]
          },
          "metadata": {},
          "execution_count": 393
        }
      ]
    },
    {
      "cell_type": "markdown",
      "source": [
        "#Equipos entre ambos"
      ],
      "metadata": {
        "id": "i87mCAyivtXp"
      }
    },
    {
      "cell_type": "code",
      "source": [
        "k_perdedor=[]\n",
        "for i in range(len(kansas)):\n",
        "  if kansas.iloc[i][5]==0:\n",
        "    k_perdedor.append(kansas.iloc[i][3])\n",
        "print('Kansas perdió contra', k_perdedor)\n",
        "e_perdedor=[]\n",
        "for i in range(len(eagles)):\n",
        "  if eagles.iloc[i][5]==0:\n",
        "    e_perdedor.append(eagles.iloc[i][3])\n",
        "print('Eagles perdió contra',e_perdedor)"
      ],
      "metadata": {
        "colab": {
          "base_uri": "https://localhost:8080/"
        },
        "id": "My7q-DI6vYo_",
        "outputId": "0883febe-0ceb-4ff2-ca68-99eef34c32c8"
      },
      "execution_count": 382,
      "outputs": [
        {
          "output_type": "stream",
          "name": "stdout",
          "text": [
            "Kansas perdió contra ['Indianapolis Colts', 'Buffalo Bills', 'Cincinnati Bengals']\n",
            "Eagles perdió contra ['Washington Commanders', 'Dallas Cowboys', 'New Orleans Saints']\n"
          ]
        }
      ]
    },
    {
      "cell_type": "code",
      "source": [
        "eq_iguales=[]\n",
        " for i in range(len(eagles)):\n",
        "   for j in range(len(equipo)): \n",
        "    if eagles.iloc[i][3]==equipo[j]:\n",
        "      eq_iguales.append(equipo[j])\n",
        "eq_iguales"
      ],
      "metadata": {
        "colab": {
          "base_uri": "https://localhost:8080/"
        },
        "id": "Ny-ACwFLqauC",
        "outputId": "766b4faa-4760-4c98-99a0-874ec515cec4"
      },
      "execution_count": 467,
      "outputs": [
        {
          "output_type": "execute_result",
          "data": {
            "text/plain": [
              "['Jacksonville Jaguars',\n",
              " 'Jacksonville Jaguars',\n",
              " 'Arizona Cardinals',\n",
              " 'Houston Texans',\n",
              " 'Indianapolis Colts',\n",
              " 'Tennessee Titans',\n",
              " 'San Francisco 49ers']"
            ]
          },
          "metadata": {},
          "execution_count": 467
        }
      ]
    },
    {
      "cell_type": "code",
      "source": [
        "eq_iguales_df = pd.DataFrame(columns=kansas.columns)\n",
        "for i in range(1,len(eq_iguales)):\n",
        "  eq_iguales_df = pd.concat([eq_iguales_df,kansas[kansas['Equipo2']==eq_iguales[i]]])\n",
        "  eq_iguales_df = pd.concat([eq_iguales_df,eagles[eagles['Equipo2']==eq_iguales[i]]])\n",
        "eq_iguales_df = eq_iguales_df.reset_index(drop=True)\n",
        "eq_iguales_df"
      ],
      "metadata": {
        "colab": {
          "base_uri": "https://localhost:8080/",
          "height": 457
        },
        "id": "tqJU78GSul6E",
        "outputId": "783276aa-2ba4-4545-cbdd-70600af9161c"
      },
      "execution_count": 520,
      "outputs": [
        {
          "output_type": "execute_result",
          "data": {
            "text/plain": [
              "                Equipo1 Resultado1 Resultado2               Equipo2 Semana  \\\n",
              "0    Kansas City Chiefs         27         17  Jacksonville Jaguars     10   \n",
              "1    Kansas City Chiefs         27         20  Jacksonville Jaguars     19   \n",
              "2   Philadelphia Eagles         29         21  Jacksonville Jaguars      4   \n",
              "3    Kansas City Chiefs         44         21     Arizona Cardinals      1   \n",
              "4   Philadelphia Eagles         20         17     Arizona Cardinals      5   \n",
              "5    Kansas City Chiefs         30         24        Houston Texans     15   \n",
              "6   Philadelphia Eagles         29         17        Houston Texans      9   \n",
              "7    Kansas City Chiefs         17         20    Indianapolis Colts      3   \n",
              "8   Philadelphia Eagles         17         16    Indianapolis Colts     11   \n",
              "9    Kansas City Chiefs         20         17      Tennessee Titans      9   \n",
              "10  Philadelphia Eagles         35         10      Tennessee Titans     13   \n",
              "11   Kansas City Chiefs         44         23   San Francisco 49ers      7   \n",
              "12  Philadelphia Eagles         31          7   San Francisco 49ers     20   \n",
              "\n",
              "   Ganados Diferencia  \n",
              "0        1         10  \n",
              "1        1          7  \n",
              "2        1          8  \n",
              "3        1         23  \n",
              "4        1          3  \n",
              "5        1          6  \n",
              "6        1         12  \n",
              "7        0         -3  \n",
              "8        1          1  \n",
              "9        1          3  \n",
              "10       1         25  \n",
              "11       1         21  \n",
              "12       1         24  "
            ],
            "text/html": [
              "\n",
              "  <div id=\"df-efc0ff40-dce5-42bf-bb23-987536e2246d\">\n",
              "    <div class=\"colab-df-container\">\n",
              "      <div>\n",
              "<style scoped>\n",
              "    .dataframe tbody tr th:only-of-type {\n",
              "        vertical-align: middle;\n",
              "    }\n",
              "\n",
              "    .dataframe tbody tr th {\n",
              "        vertical-align: top;\n",
              "    }\n",
              "\n",
              "    .dataframe thead th {\n",
              "        text-align: right;\n",
              "    }\n",
              "</style>\n",
              "<table border=\"1\" class=\"dataframe\">\n",
              "  <thead>\n",
              "    <tr style=\"text-align: right;\">\n",
              "      <th></th>\n",
              "      <th>Equipo1</th>\n",
              "      <th>Resultado1</th>\n",
              "      <th>Resultado2</th>\n",
              "      <th>Equipo2</th>\n",
              "      <th>Semana</th>\n",
              "      <th>Ganados</th>\n",
              "      <th>Diferencia</th>\n",
              "    </tr>\n",
              "  </thead>\n",
              "  <tbody>\n",
              "    <tr>\n",
              "      <th>0</th>\n",
              "      <td>Kansas City Chiefs</td>\n",
              "      <td>27</td>\n",
              "      <td>17</td>\n",
              "      <td>Jacksonville Jaguars</td>\n",
              "      <td>10</td>\n",
              "      <td>1</td>\n",
              "      <td>10</td>\n",
              "    </tr>\n",
              "    <tr>\n",
              "      <th>1</th>\n",
              "      <td>Kansas City Chiefs</td>\n",
              "      <td>27</td>\n",
              "      <td>20</td>\n",
              "      <td>Jacksonville Jaguars</td>\n",
              "      <td>19</td>\n",
              "      <td>1</td>\n",
              "      <td>7</td>\n",
              "    </tr>\n",
              "    <tr>\n",
              "      <th>2</th>\n",
              "      <td>Philadelphia Eagles</td>\n",
              "      <td>29</td>\n",
              "      <td>21</td>\n",
              "      <td>Jacksonville Jaguars</td>\n",
              "      <td>4</td>\n",
              "      <td>1</td>\n",
              "      <td>8</td>\n",
              "    </tr>\n",
              "    <tr>\n",
              "      <th>3</th>\n",
              "      <td>Kansas City Chiefs</td>\n",
              "      <td>44</td>\n",
              "      <td>21</td>\n",
              "      <td>Arizona Cardinals</td>\n",
              "      <td>1</td>\n",
              "      <td>1</td>\n",
              "      <td>23</td>\n",
              "    </tr>\n",
              "    <tr>\n",
              "      <th>4</th>\n",
              "      <td>Philadelphia Eagles</td>\n",
              "      <td>20</td>\n",
              "      <td>17</td>\n",
              "      <td>Arizona Cardinals</td>\n",
              "      <td>5</td>\n",
              "      <td>1</td>\n",
              "      <td>3</td>\n",
              "    </tr>\n",
              "    <tr>\n",
              "      <th>5</th>\n",
              "      <td>Kansas City Chiefs</td>\n",
              "      <td>30</td>\n",
              "      <td>24</td>\n",
              "      <td>Houston Texans</td>\n",
              "      <td>15</td>\n",
              "      <td>1</td>\n",
              "      <td>6</td>\n",
              "    </tr>\n",
              "    <tr>\n",
              "      <th>6</th>\n",
              "      <td>Philadelphia Eagles</td>\n",
              "      <td>29</td>\n",
              "      <td>17</td>\n",
              "      <td>Houston Texans</td>\n",
              "      <td>9</td>\n",
              "      <td>1</td>\n",
              "      <td>12</td>\n",
              "    </tr>\n",
              "    <tr>\n",
              "      <th>7</th>\n",
              "      <td>Kansas City Chiefs</td>\n",
              "      <td>17</td>\n",
              "      <td>20</td>\n",
              "      <td>Indianapolis Colts</td>\n",
              "      <td>3</td>\n",
              "      <td>0</td>\n",
              "      <td>-3</td>\n",
              "    </tr>\n",
              "    <tr>\n",
              "      <th>8</th>\n",
              "      <td>Philadelphia Eagles</td>\n",
              "      <td>17</td>\n",
              "      <td>16</td>\n",
              "      <td>Indianapolis Colts</td>\n",
              "      <td>11</td>\n",
              "      <td>1</td>\n",
              "      <td>1</td>\n",
              "    </tr>\n",
              "    <tr>\n",
              "      <th>9</th>\n",
              "      <td>Kansas City Chiefs</td>\n",
              "      <td>20</td>\n",
              "      <td>17</td>\n",
              "      <td>Tennessee Titans</td>\n",
              "      <td>9</td>\n",
              "      <td>1</td>\n",
              "      <td>3</td>\n",
              "    </tr>\n",
              "    <tr>\n",
              "      <th>10</th>\n",
              "      <td>Philadelphia Eagles</td>\n",
              "      <td>35</td>\n",
              "      <td>10</td>\n",
              "      <td>Tennessee Titans</td>\n",
              "      <td>13</td>\n",
              "      <td>1</td>\n",
              "      <td>25</td>\n",
              "    </tr>\n",
              "    <tr>\n",
              "      <th>11</th>\n",
              "      <td>Kansas City Chiefs</td>\n",
              "      <td>44</td>\n",
              "      <td>23</td>\n",
              "      <td>San Francisco 49ers</td>\n",
              "      <td>7</td>\n",
              "      <td>1</td>\n",
              "      <td>21</td>\n",
              "    </tr>\n",
              "    <tr>\n",
              "      <th>12</th>\n",
              "      <td>Philadelphia Eagles</td>\n",
              "      <td>31</td>\n",
              "      <td>7</td>\n",
              "      <td>San Francisco 49ers</td>\n",
              "      <td>20</td>\n",
              "      <td>1</td>\n",
              "      <td>24</td>\n",
              "    </tr>\n",
              "  </tbody>\n",
              "</table>\n",
              "</div>\n",
              "      <button class=\"colab-df-convert\" onclick=\"convertToInteractive('df-efc0ff40-dce5-42bf-bb23-987536e2246d')\"\n",
              "              title=\"Convert this dataframe to an interactive table.\"\n",
              "              style=\"display:none;\">\n",
              "        \n",
              "  <svg xmlns=\"http://www.w3.org/2000/svg\" height=\"24px\"viewBox=\"0 0 24 24\"\n",
              "       width=\"24px\">\n",
              "    <path d=\"M0 0h24v24H0V0z\" fill=\"none\"/>\n",
              "    <path d=\"M18.56 5.44l.94 2.06.94-2.06 2.06-.94-2.06-.94-.94-2.06-.94 2.06-2.06.94zm-11 1L8.5 8.5l.94-2.06 2.06-.94-2.06-.94L8.5 2.5l-.94 2.06-2.06.94zm10 10l.94 2.06.94-2.06 2.06-.94-2.06-.94-.94-2.06-.94 2.06-2.06.94z\"/><path d=\"M17.41 7.96l-1.37-1.37c-.4-.4-.92-.59-1.43-.59-.52 0-1.04.2-1.43.59L10.3 9.45l-7.72 7.72c-.78.78-.78 2.05 0 2.83L4 21.41c.39.39.9.59 1.41.59.51 0 1.02-.2 1.41-.59l7.78-7.78 2.81-2.81c.8-.78.8-2.07 0-2.86zM5.41 20L4 18.59l7.72-7.72 1.47 1.35L5.41 20z\"/>\n",
              "  </svg>\n",
              "      </button>\n",
              "      \n",
              "  <style>\n",
              "    .colab-df-container {\n",
              "      display:flex;\n",
              "      flex-wrap:wrap;\n",
              "      gap: 12px;\n",
              "    }\n",
              "\n",
              "    .colab-df-convert {\n",
              "      background-color: #E8F0FE;\n",
              "      border: none;\n",
              "      border-radius: 50%;\n",
              "      cursor: pointer;\n",
              "      display: none;\n",
              "      fill: #1967D2;\n",
              "      height: 32px;\n",
              "      padding: 0 0 0 0;\n",
              "      width: 32px;\n",
              "    }\n",
              "\n",
              "    .colab-df-convert:hover {\n",
              "      background-color: #E2EBFA;\n",
              "      box-shadow: 0px 1px 2px rgba(60, 64, 67, 0.3), 0px 1px 3px 1px rgba(60, 64, 67, 0.15);\n",
              "      fill: #174EA6;\n",
              "    }\n",
              "\n",
              "    [theme=dark] .colab-df-convert {\n",
              "      background-color: #3B4455;\n",
              "      fill: #D2E3FC;\n",
              "    }\n",
              "\n",
              "    [theme=dark] .colab-df-convert:hover {\n",
              "      background-color: #434B5C;\n",
              "      box-shadow: 0px 1px 3px 1px rgba(0, 0, 0, 0.15);\n",
              "      filter: drop-shadow(0px 1px 2px rgba(0, 0, 0, 0.3));\n",
              "      fill: #FFFFFF;\n",
              "    }\n",
              "  </style>\n",
              "\n",
              "      <script>\n",
              "        const buttonEl =\n",
              "          document.querySelector('#df-efc0ff40-dce5-42bf-bb23-987536e2246d button.colab-df-convert');\n",
              "        buttonEl.style.display =\n",
              "          google.colab.kernel.accessAllowed ? 'block' : 'none';\n",
              "\n",
              "        async function convertToInteractive(key) {\n",
              "          const element = document.querySelector('#df-efc0ff40-dce5-42bf-bb23-987536e2246d');\n",
              "          const dataTable =\n",
              "            await google.colab.kernel.invokeFunction('convertToInteractive',\n",
              "                                                     [key], {});\n",
              "          if (!dataTable) return;\n",
              "\n",
              "          const docLinkHtml = 'Like what you see? Visit the ' +\n",
              "            '<a target=\"_blank\" href=https://colab.research.google.com/notebooks/data_table.ipynb>data table notebook</a>'\n",
              "            + ' to learn more about interactive tables.';\n",
              "          element.innerHTML = '';\n",
              "          dataTable['output_type'] = 'display_data';\n",
              "          await google.colab.output.renderOutput(dataTable, element);\n",
              "          const docLink = document.createElement('div');\n",
              "          docLink.innerHTML = docLinkHtml;\n",
              "          element.appendChild(docLink);\n",
              "        }\n",
              "      </script>\n",
              "    </div>\n",
              "  </div>\n",
              "  "
            ]
          },
          "metadata": {},
          "execution_count": 520
        }
      ]
    },
    {
      "cell_type": "code",
      "source": [
        "nuevo['Diferencia'].mean()"
      ],
      "metadata": {
        "colab": {
          "base_uri": "https://localhost:8080/"
        },
        "id": "JFRk7asJy-Z2",
        "outputId": "431282ca-cb5c-4d4d-d072-d1a9e6eab3dc"
      },
      "execution_count": 516,
      "outputs": [
        {
          "output_type": "execute_result",
          "data": {
            "text/plain": [
              "10.3125"
            ]
          },
          "metadata": {},
          "execution_count": 516
        }
      ]
    },
    {
      "cell_type": "markdown",
      "source": [
        "# Marcador Final"
      ],
      "metadata": {
        "id": "5yz9TqUQptqy"
      }
    },
    {
      "cell_type": "markdown",
      "source": [
        "Eagles 25 - Kansas 22"
      ],
      "metadata": {
        "id": "-cup7OP5pv6P"
      }
    }
  ]
}